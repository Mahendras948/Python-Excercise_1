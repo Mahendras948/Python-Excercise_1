{
 "cells": [
  {
   "cell_type": "markdown",
   "metadata": {},
   "source": [
    "#### In this excercise I chose to measure the effect of TB in terms of deaths, which led to the following questions:\n",
    "\n",
    "* What is the total, smallest, largest, and average number of deaths due to TB?\n",
    "* What is the death rate (number of deaths divided by population) of each country?\n",
    "* Which countries have the smallest and largest number of deaths?\n",
    "* Which countries have the smallest and largest death rate?"
   ]
  },
  {
   "cell_type": "markdown",
   "metadata": {},
   "source": [
    "### Task_1\n",
    "\n",
    "* Define the variable..?\n",
    "\n",
    "* Add assignments to the in a new code cell for the estimated deaths by TB in 2013 in the remaining BRICS countries. The values are as follows: Russia 17000, India 240000, China 41000, South Africa 25000.\n",
    "\n",
    "* Don't forget to run the code cell, so that the new variables are available for the exercises further below."
   ]
  },
  {
   "cell_type": "markdown",
   "metadata": {},
   "source": [
    "To sum up, a variable is a named storage for values and an assignment takes the value on the right hand side of the equal sign (=) and stores it in the variable on the left-hand side.\n",
    "\n",
    "for example: deathsInBrazil = 4400"
   ]
  },
  {
   "cell_type": "code",
   "execution_count": 1,
   "metadata": {},
   "outputs": [],
   "source": [
    "# Creating variables and estimating the deaths by TB \n",
    "deathsInRussia, deathsInIndia, deathsInChina, deathsInSouthafrica = 17000, 240000, 41000,25000"
   ]
  },
  {
   "cell_type": "markdown",
   "metadata": {},
   "source": [
    "### Task_2\n",
    "* Define the expressions.?\n",
    "* Write the variable names of the remaining BRICS countries\n",
    "* In the cell below, write code to calculate the total number of deaths in the five BRICS countries (Brazil, Russia, India, China, South Africa) in 2013. Run the code to see the result, which should be 327400.\n",
    "* In the cell below, write code to calculate the average number of deaths in the BRICS countries in 2013. Run the code to see the result, which should be 65480."
   ]
  },
  {
   "cell_type": "markdown",
   "metadata": {},
   "source": [
    "* An expression is a fragment of code that has a value. A variable name, by itself, is an expression: the expression's value is the value stored in the variable. In Jupyter notebooks, if the last line of a code cell is an expression, then the computer will show its value when executing the cell.\n",
    "\n",
    "* More complex expressions can be written using the arithmetic operators of addition (+), substraction (-), multiplication (*) and division (/). \n",
    "* For example, the total number of deaths in the BRICS countries is:"
   ]
  },
  {
   "cell_type": "code",
   "execution_count": 18,
   "metadata": {},
   "outputs": [
    {
     "name": "stdout",
     "output_type": "stream",
     "text": [
      "327400\n"
     ]
    },
    {
     "data": {
      "text/plain": [
       "327400"
      ]
     },
     "execution_count": 18,
     "metadata": {},
     "output_type": "execute_result"
    }
   ],
   "source": [
    "# names of the remaining BRICS countries\n",
    "deathsInBrazil = 4400\n",
    "\n",
    "# code to calculate the total number of deaths in the five BRICS countries\n",
    "print(deathsInBrazil+deathsInRussia+deathsInIndia+deathsInChina+deathsInSouthafrica)\n",
    "\n",
    "# Or\n",
    "\n",
    "deathsInBrazil+deathsInRussia+deathsInIndia+deathsInChina+deathsInSouthafrica"
   ]
  },
  {
   "cell_type": "code",
   "execution_count": 20,
   "metadata": {},
   "outputs": [
    {
     "name": "stdout",
     "output_type": "stream",
     "text": [
      "327400\n"
     ]
    }
   ],
   "source": [
    "# Or\n",
    "total_number = deathsInBrazil+deathsInRussia+deathsInIndia+deathsInChina+deathsInSouthafrica\n",
    "print(total_number)"
   ]
  },
  {
   "cell_type": "code",
   "execution_count": 21,
   "metadata": {},
   "outputs": [
    {
     "name": "stdout",
     "output_type": "stream",
     "text": [
      "65480.0\n"
     ]
    }
   ],
   "source": [
    "# code to calculate the average number of deaths in the BRICS countries\n",
    "print(total_number/5)\n",
    "# Task_2_completed../"
   ]
  },
  {
   "cell_type": "markdown",
   "metadata": {},
   "source": [
    "### Task_3\n",
    "* What is fucntion.?\n",
    "* Compute the largest and smallest number of deaths in the BRICS countries.\n",
    "* Compute the range."
   ]
  },
  {
   "cell_type": "markdown",
   "metadata": {},
   "source": [
    "* A function takes zero or more values (the function's arguments) and returns (produces) a value.\n",
    "  To call (use) a function, write the function name, followed by its arguments within parentheses (round   brackets).\n",
    "  Multiple arguments are separated by commas. Function names follow the same rules and conventions as variable names. \n",
    "  A function call is an expression: the expression's value is the value returned by the function.\n",
    "\n",
    "* Python provides two built in functions to compute the maximum (largest) and minimum (smallest) of two or more values."
   ]
  },
  {
   "cell_type": "code",
   "execution_count": 29,
   "metadata": {},
   "outputs": [
    {
     "name": "stdout",
     "output_type": "stream",
     "text": [
      "240000\n",
      "4400\n"
     ]
    }
   ],
   "source": [
    "# Code for Computing the largest and smallest number of deaths in the BRICS countries.\n",
    "largest = max(deathsInBrazil,deathsInRussia,deathsInIndia,deathsInChina,deathsInSouthafrica)\n",
    "smallest = min(deathsInBrazil,deathsInRussia,deathsInIndia,deathsInChina,deathsInSouthafrica)\n",
    "print(largest) # print largest deaths \n",
    "print(smallest) # print smallest deaths "
   ]
  },
  {
   "cell_type": "code",
   "execution_count": 32,
   "metadata": {},
   "outputs": [
    {
     "name": "stdout",
     "output_type": "stream",
     "text": [
      "235600\n"
     ]
    }
   ],
   "source": [
    "# Code to compute the death range.\n",
    "range = largest - smallest\n",
    "\n",
    "print(range)\n",
    "\n",
    "# Task_3_completed../"
   ]
  },
  {
   "cell_type": "markdown",
   "metadata": {},
   "source": [
    "### Task_4\n",
    "* Make a comment on import statement.\n",
    "* What read_excel() did..?\n",
    "* Import the data using **WHO POP TB some.xls** file on jupyter notebook and use the head().\n",
    "* In the next cell, select the population column and store it in a variable (you'll use it in the next exercise). You need to scroll back to the start of the exercise to see the column's name."
   ]
  },
  {
   "cell_type": "markdown",
   "metadata": {},
   "source": [
    "* To load all the code from the pandas module.The words in boldface (**from** and **import**) are **reserved** words of the Python language and they cannot be used as names.\n",
    "\n",
    "* function takes a string with the name of an Excel file, and returns a dataframe, the pandas representation of a table. The computer reports a file not found error if the file is not in the same folder as this notebook, or the file name is misspelt."
   ]
  },
  {
   "cell_type": "code",
   "execution_count": 33,
   "metadata": {},
   "outputs": [],
   "source": [
    "# load the pandas module\n",
    "from pandas import*"
   ]
  },
  {
   "cell_type": "code",
   "execution_count": 37,
   "metadata": {},
   "outputs": [
    {
     "data": {
      "text/html": [
       "<div>\n",
       "<style scoped>\n",
       "    .dataframe tbody tr th:only-of-type {\n",
       "        vertical-align: middle;\n",
       "    }\n",
       "\n",
       "    .dataframe tbody tr th {\n",
       "        vertical-align: top;\n",
       "    }\n",
       "\n",
       "    .dataframe thead th {\n",
       "        text-align: right;\n",
       "    }\n",
       "</style>\n",
       "<table border=\"1\" class=\"dataframe\">\n",
       "  <thead>\n",
       "    <tr style=\"text-align: right;\">\n",
       "      <th></th>\n",
       "      <th>Country</th>\n",
       "      <th>Population (1000s)</th>\n",
       "      <th>TB deaths</th>\n",
       "    </tr>\n",
       "  </thead>\n",
       "  <tbody>\n",
       "    <tr>\n",
       "      <th>0</th>\n",
       "      <td>Angola</td>\n",
       "      <td>21472</td>\n",
       "      <td>6900</td>\n",
       "    </tr>\n",
       "    <tr>\n",
       "      <th>1</th>\n",
       "      <td>Brazil</td>\n",
       "      <td>200362</td>\n",
       "      <td>4400</td>\n",
       "    </tr>\n",
       "    <tr>\n",
       "      <th>2</th>\n",
       "      <td>China</td>\n",
       "      <td>1393337</td>\n",
       "      <td>41000</td>\n",
       "    </tr>\n",
       "    <tr>\n",
       "      <th>3</th>\n",
       "      <td>Equatorial Guinea</td>\n",
       "      <td>757</td>\n",
       "      <td>67</td>\n",
       "    </tr>\n",
       "    <tr>\n",
       "      <th>4</th>\n",
       "      <td>Guinea-Bissau</td>\n",
       "      <td>1704</td>\n",
       "      <td>1200</td>\n",
       "    </tr>\n",
       "  </tbody>\n",
       "</table>\n",
       "</div>"
      ],
      "text/plain": [
       "             Country  Population (1000s)  TB deaths\n",
       "0             Angola               21472       6900\n",
       "1             Brazil              200362       4400\n",
       "2              China             1393337      41000\n",
       "3  Equatorial Guinea                 757         67\n",
       "4      Guinea-Bissau                1704       1200"
      ]
     },
     "execution_count": 37,
     "metadata": {},
     "output_type": "execute_result"
    }
   ],
   "source": [
    "# Importing the data \n",
    "data = read_excel(\"WHO POP TB some.xls\") \n",
    "data.head()"
   ]
  },
  {
   "cell_type": "code",
   "execution_count": 56,
   "metadata": {},
   "outputs": [
    {
     "data": {
      "text/plain": [
       "0       21472\n",
       "1      200362\n",
       "2     1393337\n",
       "3         757\n",
       "4        1704\n",
       "5     1252140\n",
       "6       25834\n",
       "7       10608\n",
       "8      142834\n",
       "9         193\n",
       "10      52776\n",
       "11       1133\n",
       "Name: Population (1000s), dtype: int64"
      ]
     },
     "execution_count": 56,
     "metadata": {},
     "output_type": "execute_result"
    }
   ],
   "source": [
    "# select the population column\n",
    "Pop = data[\"Population (1000s)\"]\n",
    "Pop\n",
    "\n",
    "# Task_4_completed../"
   ]
  },
  {
   "cell_type": "markdown",
   "metadata": {},
   "source": [
    "### Task_5\n",
    "* Use the population column variable from the previous exercise to calculate: Calculate the sum, the largest,smallest of the numbers and mean and median in population column variable.\n",
    "* The dataframe method `sort_values()` takes as argument a column name and returns a new dataframe, with rows in ascending order according to the values in that column.\n",
    "* Calculate the rate of population, in thousands of inhabitants and add **TB deaths (per 100000)** column to dataframe using rateColumn variable."
   ]
  },
  {
   "cell_type": "code",
   "execution_count": 57,
   "metadata": {},
   "outputs": [
    {
     "data": {
      "text/plain": [
       "3103150"
      ]
     },
     "execution_count": 57,
     "metadata": {},
     "output_type": "execute_result"
    }
   ],
   "source": [
    "Pop.sum() # calculate the sum"
   ]
  },
  {
   "cell_type": "code",
   "execution_count": 58,
   "metadata": {},
   "outputs": [
    {
     "data": {
      "text/plain": [
       "1393337"
      ]
     },
     "execution_count": 58,
     "metadata": {},
     "output_type": "execute_result"
    }
   ],
   "source": [
    "Pop.max() # largest"
   ]
  },
  {
   "cell_type": "code",
   "execution_count": 59,
   "metadata": {},
   "outputs": [
    {
     "data": {
      "text/plain": [
       "193"
      ]
     },
     "execution_count": 59,
     "metadata": {},
     "output_type": "execute_result"
    }
   ],
   "source": [
    "Pop.min() # smallest"
   ]
  },
  {
   "cell_type": "code",
   "execution_count": 60,
   "metadata": {},
   "outputs": [
    {
     "data": {
      "text/plain": [
       "258595.83333333334"
      ]
     },
     "execution_count": 60,
     "metadata": {},
     "output_type": "execute_result"
    }
   ],
   "source": [
    "Pop.mean()"
   ]
  },
  {
   "cell_type": "code",
   "execution_count": 61,
   "metadata": {},
   "outputs": [
    {
     "data": {
      "text/plain": [
       "23653.0"
      ]
     },
     "execution_count": 61,
     "metadata": {},
     "output_type": "execute_result"
    }
   ],
   "source": [
    "Pop.median()"
   ]
  },
  {
   "cell_type": "code",
   "execution_count": 62,
   "metadata": {},
   "outputs": [
    {
     "data": {
      "text/plain": [
       "9         193\n",
       "3         757\n",
       "11       1133\n",
       "4        1704\n",
       "7       10608\n",
       "0       21472\n",
       "6       25834\n",
       "10      52776\n",
       "8      142834\n",
       "1      200362\n",
       "5     1252140\n",
       "2     1393337\n",
       "Name: Population (1000s), dtype: int64"
      ]
     },
     "execution_count": 62,
     "metadata": {},
     "output_type": "execute_result"
    }
   ],
   "source": [
    "Pop.sort_values()"
   ]
  },
  {
   "cell_type": "code",
   "execution_count": 63,
   "metadata": {},
   "outputs": [
    {
     "data": {
      "text/plain": [
       "0     32.134873\n",
       "1      2.196025\n",
       "2      2.942576\n",
       "3      8.850727\n",
       "4     70.422535\n",
       "5     19.167186\n",
       "6     69.675621\n",
       "7      1.319759\n",
       "8     11.901928\n",
       "9      9.326425\n",
       "10    47.370017\n",
       "11    87.378641\n",
       "dtype: float64"
      ]
     },
     "execution_count": 63,
     "metadata": {},
     "output_type": "execute_result"
    }
   ],
   "source": [
    "# Computing the death rate of the population, in thousands of inhabitants\n",
    "deathsColumn = data['TB deaths']\n",
    "populationColumn = data['Population (1000s)']\n",
    "rateColumn = deathsColumn * 100 / populationColumn\n",
    "rateColumn"
   ]
  },
  {
   "cell_type": "code",
   "execution_count": 64,
   "metadata": {},
   "outputs": [
    {
     "data": {
      "text/html": [
       "<div>\n",
       "<style scoped>\n",
       "    .dataframe tbody tr th:only-of-type {\n",
       "        vertical-align: middle;\n",
       "    }\n",
       "\n",
       "    .dataframe tbody tr th {\n",
       "        vertical-align: top;\n",
       "    }\n",
       "\n",
       "    .dataframe thead th {\n",
       "        text-align: right;\n",
       "    }\n",
       "</style>\n",
       "<table border=\"1\" class=\"dataframe\">\n",
       "  <thead>\n",
       "    <tr style=\"text-align: right;\">\n",
       "      <th></th>\n",
       "      <th>Country</th>\n",
       "      <th>Population (1000s)</th>\n",
       "      <th>TB deaths</th>\n",
       "      <th>TB deaths (per 100000)</th>\n",
       "    </tr>\n",
       "  </thead>\n",
       "  <tbody>\n",
       "    <tr>\n",
       "      <th>0</th>\n",
       "      <td>Angola</td>\n",
       "      <td>21472</td>\n",
       "      <td>6900</td>\n",
       "      <td>32.134873</td>\n",
       "    </tr>\n",
       "    <tr>\n",
       "      <th>1</th>\n",
       "      <td>Brazil</td>\n",
       "      <td>200362</td>\n",
       "      <td>4400</td>\n",
       "      <td>2.196025</td>\n",
       "    </tr>\n",
       "    <tr>\n",
       "      <th>2</th>\n",
       "      <td>China</td>\n",
       "      <td>1393337</td>\n",
       "      <td>41000</td>\n",
       "      <td>2.942576</td>\n",
       "    </tr>\n",
       "    <tr>\n",
       "      <th>3</th>\n",
       "      <td>Equatorial Guinea</td>\n",
       "      <td>757</td>\n",
       "      <td>67</td>\n",
       "      <td>8.850727</td>\n",
       "    </tr>\n",
       "    <tr>\n",
       "      <th>4</th>\n",
       "      <td>Guinea-Bissau</td>\n",
       "      <td>1704</td>\n",
       "      <td>1200</td>\n",
       "      <td>70.422535</td>\n",
       "    </tr>\n",
       "    <tr>\n",
       "      <th>5</th>\n",
       "      <td>India</td>\n",
       "      <td>1252140</td>\n",
       "      <td>240000</td>\n",
       "      <td>19.167186</td>\n",
       "    </tr>\n",
       "    <tr>\n",
       "      <th>6</th>\n",
       "      <td>Mozambique</td>\n",
       "      <td>25834</td>\n",
       "      <td>18000</td>\n",
       "      <td>69.675621</td>\n",
       "    </tr>\n",
       "    <tr>\n",
       "      <th>7</th>\n",
       "      <td>Portugal</td>\n",
       "      <td>10608</td>\n",
       "      <td>140</td>\n",
       "      <td>1.319759</td>\n",
       "    </tr>\n",
       "    <tr>\n",
       "      <th>8</th>\n",
       "      <td>Russian Federation</td>\n",
       "      <td>142834</td>\n",
       "      <td>17000</td>\n",
       "      <td>11.901928</td>\n",
       "    </tr>\n",
       "    <tr>\n",
       "      <th>9</th>\n",
       "      <td>Sao Tome and Principe</td>\n",
       "      <td>193</td>\n",
       "      <td>18</td>\n",
       "      <td>9.326425</td>\n",
       "    </tr>\n",
       "    <tr>\n",
       "      <th>10</th>\n",
       "      <td>South Africa</td>\n",
       "      <td>52776</td>\n",
       "      <td>25000</td>\n",
       "      <td>47.370017</td>\n",
       "    </tr>\n",
       "    <tr>\n",
       "      <th>11</th>\n",
       "      <td>Timor-Leste</td>\n",
       "      <td>1133</td>\n",
       "      <td>990</td>\n",
       "      <td>87.378641</td>\n",
       "    </tr>\n",
       "  </tbody>\n",
       "</table>\n",
       "</div>"
      ],
      "text/plain": [
       "                  Country  Population (1000s)  TB deaths  \\\n",
       "0                  Angola               21472       6900   \n",
       "1                  Brazil              200362       4400   \n",
       "2                   China             1393337      41000   \n",
       "3       Equatorial Guinea                 757         67   \n",
       "4           Guinea-Bissau                1704       1200   \n",
       "5                   India             1252140     240000   \n",
       "6              Mozambique               25834      18000   \n",
       "7                Portugal               10608        140   \n",
       "8      Russian Federation              142834      17000   \n",
       "9   Sao Tome and Principe                 193         18   \n",
       "10           South Africa               52776      25000   \n",
       "11            Timor-Leste                1133        990   \n",
       "\n",
       "    TB deaths (per 100000)  \n",
       "0                32.134873  \n",
       "1                 2.196025  \n",
       "2                 2.942576  \n",
       "3                 8.850727  \n",
       "4                70.422535  \n",
       "5                19.167186  \n",
       "6                69.675621  \n",
       "7                 1.319759  \n",
       "8                11.901928  \n",
       "9                 9.326425  \n",
       "10               47.370017  \n",
       "11               87.378641  "
      ]
     },
     "execution_count": 64,
     "metadata": {},
     "output_type": "execute_result"
    }
   ],
   "source": [
    "# To add TB deaths (per 100000) column to dataframe../\n",
    "data[\"TB deaths (per 100000)\"] = rateColumn\n",
    "data\n",
    "\n",
    "# Task_5_completed../\n",
    "# Excercise_1_Completed../"
   ]
  },
  {
   "cell_type": "markdown",
   "metadata": {},
   "source": [
    "Mahendra Pratap Singh PGD Student at SCIS, JNU New Delhi | Enrolment no: 1611000144 | **Excercise_1**"
   ]
  }
 ],
 "metadata": {
  "kernelspec": {
   "display_name": "Python 3",
   "language": "python",
   "name": "python3"
  },
  "language_info": {
   "codemirror_mode": {
    "name": "ipython",
    "version": 3
   },
   "file_extension": ".py",
   "mimetype": "text/x-python",
   "name": "python",
   "nbconvert_exporter": "python",
   "pygments_lexer": "ipython3",
   "version": "3.8.5"
  }
 },
 "nbformat": 4,
 "nbformat_minor": 4
}
